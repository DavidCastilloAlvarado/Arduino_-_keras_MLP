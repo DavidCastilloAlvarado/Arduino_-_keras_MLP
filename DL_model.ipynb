{
 "cells": [
  {
   "cell_type": "markdown",
   "metadata": {
    "colab_type": "text",
    "id": "jLsP67fM98se"
   },
   "source": [
    "# Why use Keras \n",
    "Inicialmente fue Theano, sin embargo en los ultimos años tensorflow a logrado\n",
    "escalar en el entorno de desarroladores en la red, generando una gran cantidad de \n",
    "experiencias, modelos, ejemplos tutoriales.\n",
    "Facebook --- Caffe\n",
    "Amazon ----  mxnet\n",
    "\n",
    "Para empezar acodificar en deep learning es necesario empezar con lenguaje de\n",
    "alto nivel y la mejor libreria es keras, el cual trabaja sobre las plataformas de\n",
    "tensorflow y theano. \n",
    "\n",
    "Definimos la secuencia, luego construimos la secuencia, cada linea es una capa, en la cual definimos la cantidad de neuronas, cada una en secuencia de otra. La libreria coloca cada capa en la misma secuancia en la que son declaradas. \n",
    "De la misma manera seleccionamos la funcion de activacion, el metodo para medir el error (Loss) y el metodo de optimizacions (adam, rms, etc).\n",
    "\n",
    "\n",
    "\n"
   ]
  },
  {
   "cell_type": "markdown",
   "metadata": {
    "colab_type": "text",
    "id": "G857P2-WVI5k"
   },
   "source": [
    "# Librerias en General"
   ]
  },
  {
   "cell_type": "markdown",
   "metadata": {
    "colab_type": "text",
    "id": "99c8YjyZY6w5"
   },
   "source": [
    "**Step 1 Recolectar una base de datos (dataset)**"
   ]
  },
  {
   "cell_type": "code",
   "execution_count": 5,
   "metadata": {
    "colab": {},
    "colab_type": "code",
    "id": "0B4B6LVDaOAs"
   },
   "outputs": [
    {
     "ename": "FileNotFoundError",
     "evalue": "File b'official_data/lecturas_MPU.csv' does not exist",
     "output_type": "error",
     "traceback": [
      "\u001b[1;31m---------------------------------------------------------------------------\u001b[0m",
      "\u001b[1;31mFileNotFoundError\u001b[0m                         Traceback (most recent call last)",
      "\u001b[1;32m<ipython-input-5-92f3ba4de136>\u001b[0m in \u001b[0;36m<module>\u001b[1;34m\u001b[0m\n\u001b[0;32m      8\u001b[0m \u001b[1;32mimport\u001b[0m \u001b[0mnumpy\u001b[0m \u001b[1;32mas\u001b[0m \u001b[0mnp\u001b[0m\u001b[1;33m\u001b[0m\u001b[1;33m\u001b[0m\u001b[0m\n\u001b[0;32m      9\u001b[0m \u001b[0mK\u001b[0m\u001b[1;33m.\u001b[0m\u001b[0mset_floatx\u001b[0m\u001b[1;33m(\u001b[0m\u001b[1;34m'float32'\u001b[0m\u001b[1;33m)\u001b[0m\u001b[1;33m\u001b[0m\u001b[1;33m\u001b[0m\u001b[0m\n\u001b[1;32m---> 10\u001b[1;33m \u001b[0mdanger\u001b[0m \u001b[1;33m=\u001b[0m \u001b[0mpd\u001b[0m\u001b[1;33m.\u001b[0m\u001b[0mread_csv\u001b[0m\u001b[1;33m(\u001b[0m\u001b[1;34m'official_data/lecturas_MPU.csv'\u001b[0m\u001b[1;33m)\u001b[0m\u001b[1;33m.\u001b[0m\u001b[0miloc\u001b[0m\u001b[1;33m[\u001b[0m\u001b[1;36m0\u001b[0m\u001b[1;33m:\u001b[0m\u001b[1;36m11398\u001b[0m\u001b[1;33m]\u001b[0m\u001b[1;33m\u001b[0m\u001b[1;33m\u001b[0m\u001b[0m\n\u001b[0m\u001b[0;32m     11\u001b[0m \u001b[0msafe\u001b[0m \u001b[1;33m=\u001b[0m \u001b[0mpd\u001b[0m\u001b[1;33m.\u001b[0m\u001b[0mread_csv\u001b[0m\u001b[1;33m(\u001b[0m\u001b[1;34m'official_data/lecturas_MPU2.csv'\u001b[0m\u001b[1;33m)\u001b[0m\u001b[1;33m.\u001b[0m\u001b[0miloc\u001b[0m\u001b[1;33m[\u001b[0m\u001b[1;36m0\u001b[0m\u001b[1;33m:\u001b[0m\u001b[1;36m11398\u001b[0m\u001b[1;33m]\u001b[0m\u001b[1;33m\u001b[0m\u001b[1;33m\u001b[0m\u001b[0m\n\u001b[0;32m     12\u001b[0m \u001b[0mtestx\u001b[0m \u001b[1;33m=\u001b[0m \u001b[0mpd\u001b[0m\u001b[1;33m.\u001b[0m\u001b[0mread_csv\u001b[0m\u001b[1;33m(\u001b[0m\u001b[1;34m'official_data/lecturas_MPU.csv'\u001b[0m\u001b[1;33m)\u001b[0m\u001b[1;33m.\u001b[0m\u001b[0miloc\u001b[0m\u001b[1;33m[\u001b[0m\u001b[1;36m11398\u001b[0m\u001b[1;33m:\u001b[0m\u001b[1;33m]\u001b[0m\u001b[1;33m.\u001b[0m\u001b[0mdrop\u001b[0m\u001b[1;33m(\u001b[0m \u001b[1;33m[\u001b[0m\u001b[1;34m'tg'\u001b[0m\u001b[1;33m]\u001b[0m\u001b[1;33m,\u001b[0m\u001b[0maxis\u001b[0m\u001b[1;33m=\u001b[0m\u001b[1;36m1\u001b[0m\u001b[1;33m)\u001b[0m\u001b[1;33m/\u001b[0m\u001b[1;36m32767\u001b[0m \u001b[1;31m# target = 1\u001b[0m\u001b[1;33m\u001b[0m\u001b[1;33m\u001b[0m\u001b[0m\n",
      "\u001b[1;32mD:\\ProgramData\\Anaconda3\\lib\\site-packages\\pandas\\io\\parsers.py\u001b[0m in \u001b[0;36mparser_f\u001b[1;34m(filepath_or_buffer, sep, delimiter, header, names, index_col, usecols, squeeze, prefix, mangle_dupe_cols, dtype, engine, converters, true_values, false_values, skipinitialspace, skiprows, nrows, na_values, keep_default_na, na_filter, verbose, skip_blank_lines, parse_dates, infer_datetime_format, keep_date_col, date_parser, dayfirst, iterator, chunksize, compression, thousands, decimal, lineterminator, quotechar, quoting, escapechar, comment, encoding, dialect, tupleize_cols, error_bad_lines, warn_bad_lines, skipfooter, doublequote, delim_whitespace, low_memory, memory_map, float_precision)\u001b[0m\n\u001b[0;32m    676\u001b[0m                     skip_blank_lines=skip_blank_lines)\n\u001b[0;32m    677\u001b[0m \u001b[1;33m\u001b[0m\u001b[0m\n\u001b[1;32m--> 678\u001b[1;33m         \u001b[1;32mreturn\u001b[0m \u001b[0m_read\u001b[0m\u001b[1;33m(\u001b[0m\u001b[0mfilepath_or_buffer\u001b[0m\u001b[1;33m,\u001b[0m \u001b[0mkwds\u001b[0m\u001b[1;33m)\u001b[0m\u001b[1;33m\u001b[0m\u001b[1;33m\u001b[0m\u001b[0m\n\u001b[0m\u001b[0;32m    679\u001b[0m \u001b[1;33m\u001b[0m\u001b[0m\n\u001b[0;32m    680\u001b[0m     \u001b[0mparser_f\u001b[0m\u001b[1;33m.\u001b[0m\u001b[0m__name__\u001b[0m \u001b[1;33m=\u001b[0m \u001b[0mname\u001b[0m\u001b[1;33m\u001b[0m\u001b[1;33m\u001b[0m\u001b[0m\n",
      "\u001b[1;32mD:\\ProgramData\\Anaconda3\\lib\\site-packages\\pandas\\io\\parsers.py\u001b[0m in \u001b[0;36m_read\u001b[1;34m(filepath_or_buffer, kwds)\u001b[0m\n\u001b[0;32m    438\u001b[0m \u001b[1;33m\u001b[0m\u001b[0m\n\u001b[0;32m    439\u001b[0m     \u001b[1;31m# Create the parser.\u001b[0m\u001b[1;33m\u001b[0m\u001b[1;33m\u001b[0m\u001b[1;33m\u001b[0m\u001b[0m\n\u001b[1;32m--> 440\u001b[1;33m     \u001b[0mparser\u001b[0m \u001b[1;33m=\u001b[0m \u001b[0mTextFileReader\u001b[0m\u001b[1;33m(\u001b[0m\u001b[0mfilepath_or_buffer\u001b[0m\u001b[1;33m,\u001b[0m \u001b[1;33m**\u001b[0m\u001b[0mkwds\u001b[0m\u001b[1;33m)\u001b[0m\u001b[1;33m\u001b[0m\u001b[1;33m\u001b[0m\u001b[0m\n\u001b[0m\u001b[0;32m    441\u001b[0m \u001b[1;33m\u001b[0m\u001b[0m\n\u001b[0;32m    442\u001b[0m     \u001b[1;32mif\u001b[0m \u001b[0mchunksize\u001b[0m \u001b[1;32mor\u001b[0m \u001b[0miterator\u001b[0m\u001b[1;33m:\u001b[0m\u001b[1;33m\u001b[0m\u001b[1;33m\u001b[0m\u001b[0m\n",
      "\u001b[1;32mD:\\ProgramData\\Anaconda3\\lib\\site-packages\\pandas\\io\\parsers.py\u001b[0m in \u001b[0;36m__init__\u001b[1;34m(self, f, engine, **kwds)\u001b[0m\n\u001b[0;32m    785\u001b[0m             \u001b[0mself\u001b[0m\u001b[1;33m.\u001b[0m\u001b[0moptions\u001b[0m\u001b[1;33m[\u001b[0m\u001b[1;34m'has_index_names'\u001b[0m\u001b[1;33m]\u001b[0m \u001b[1;33m=\u001b[0m \u001b[0mkwds\u001b[0m\u001b[1;33m[\u001b[0m\u001b[1;34m'has_index_names'\u001b[0m\u001b[1;33m]\u001b[0m\u001b[1;33m\u001b[0m\u001b[1;33m\u001b[0m\u001b[0m\n\u001b[0;32m    786\u001b[0m \u001b[1;33m\u001b[0m\u001b[0m\n\u001b[1;32m--> 787\u001b[1;33m         \u001b[0mself\u001b[0m\u001b[1;33m.\u001b[0m\u001b[0m_make_engine\u001b[0m\u001b[1;33m(\u001b[0m\u001b[0mself\u001b[0m\u001b[1;33m.\u001b[0m\u001b[0mengine\u001b[0m\u001b[1;33m)\u001b[0m\u001b[1;33m\u001b[0m\u001b[1;33m\u001b[0m\u001b[0m\n\u001b[0m\u001b[0;32m    788\u001b[0m \u001b[1;33m\u001b[0m\u001b[0m\n\u001b[0;32m    789\u001b[0m     \u001b[1;32mdef\u001b[0m \u001b[0mclose\u001b[0m\u001b[1;33m(\u001b[0m\u001b[0mself\u001b[0m\u001b[1;33m)\u001b[0m\u001b[1;33m:\u001b[0m\u001b[1;33m\u001b[0m\u001b[1;33m\u001b[0m\u001b[0m\n",
      "\u001b[1;32mD:\\ProgramData\\Anaconda3\\lib\\site-packages\\pandas\\io\\parsers.py\u001b[0m in \u001b[0;36m_make_engine\u001b[1;34m(self, engine)\u001b[0m\n\u001b[0;32m   1012\u001b[0m     \u001b[1;32mdef\u001b[0m \u001b[0m_make_engine\u001b[0m\u001b[1;33m(\u001b[0m\u001b[0mself\u001b[0m\u001b[1;33m,\u001b[0m \u001b[0mengine\u001b[0m\u001b[1;33m=\u001b[0m\u001b[1;34m'c'\u001b[0m\u001b[1;33m)\u001b[0m\u001b[1;33m:\u001b[0m\u001b[1;33m\u001b[0m\u001b[1;33m\u001b[0m\u001b[0m\n\u001b[0;32m   1013\u001b[0m         \u001b[1;32mif\u001b[0m \u001b[0mengine\u001b[0m \u001b[1;33m==\u001b[0m \u001b[1;34m'c'\u001b[0m\u001b[1;33m:\u001b[0m\u001b[1;33m\u001b[0m\u001b[1;33m\u001b[0m\u001b[0m\n\u001b[1;32m-> 1014\u001b[1;33m             \u001b[0mself\u001b[0m\u001b[1;33m.\u001b[0m\u001b[0m_engine\u001b[0m \u001b[1;33m=\u001b[0m \u001b[0mCParserWrapper\u001b[0m\u001b[1;33m(\u001b[0m\u001b[0mself\u001b[0m\u001b[1;33m.\u001b[0m\u001b[0mf\u001b[0m\u001b[1;33m,\u001b[0m \u001b[1;33m**\u001b[0m\u001b[0mself\u001b[0m\u001b[1;33m.\u001b[0m\u001b[0moptions\u001b[0m\u001b[1;33m)\u001b[0m\u001b[1;33m\u001b[0m\u001b[1;33m\u001b[0m\u001b[0m\n\u001b[0m\u001b[0;32m   1015\u001b[0m         \u001b[1;32melse\u001b[0m\u001b[1;33m:\u001b[0m\u001b[1;33m\u001b[0m\u001b[1;33m\u001b[0m\u001b[0m\n\u001b[0;32m   1016\u001b[0m             \u001b[1;32mif\u001b[0m \u001b[0mengine\u001b[0m \u001b[1;33m==\u001b[0m \u001b[1;34m'python'\u001b[0m\u001b[1;33m:\u001b[0m\u001b[1;33m\u001b[0m\u001b[1;33m\u001b[0m\u001b[0m\n",
      "\u001b[1;32mD:\\ProgramData\\Anaconda3\\lib\\site-packages\\pandas\\io\\parsers.py\u001b[0m in \u001b[0;36m__init__\u001b[1;34m(self, src, **kwds)\u001b[0m\n\u001b[0;32m   1706\u001b[0m         \u001b[0mkwds\u001b[0m\u001b[1;33m[\u001b[0m\u001b[1;34m'usecols'\u001b[0m\u001b[1;33m]\u001b[0m \u001b[1;33m=\u001b[0m \u001b[0mself\u001b[0m\u001b[1;33m.\u001b[0m\u001b[0musecols\u001b[0m\u001b[1;33m\u001b[0m\u001b[1;33m\u001b[0m\u001b[0m\n\u001b[0;32m   1707\u001b[0m \u001b[1;33m\u001b[0m\u001b[0m\n\u001b[1;32m-> 1708\u001b[1;33m         \u001b[0mself\u001b[0m\u001b[1;33m.\u001b[0m\u001b[0m_reader\u001b[0m \u001b[1;33m=\u001b[0m \u001b[0mparsers\u001b[0m\u001b[1;33m.\u001b[0m\u001b[0mTextReader\u001b[0m\u001b[1;33m(\u001b[0m\u001b[0msrc\u001b[0m\u001b[1;33m,\u001b[0m \u001b[1;33m**\u001b[0m\u001b[0mkwds\u001b[0m\u001b[1;33m)\u001b[0m\u001b[1;33m\u001b[0m\u001b[1;33m\u001b[0m\u001b[0m\n\u001b[0m\u001b[0;32m   1709\u001b[0m \u001b[1;33m\u001b[0m\u001b[0m\n\u001b[0;32m   1710\u001b[0m         \u001b[0mpassed_names\u001b[0m \u001b[1;33m=\u001b[0m \u001b[0mself\u001b[0m\u001b[1;33m.\u001b[0m\u001b[0mnames\u001b[0m \u001b[1;32mis\u001b[0m \u001b[1;32mNone\u001b[0m\u001b[1;33m\u001b[0m\u001b[1;33m\u001b[0m\u001b[0m\n",
      "\u001b[1;32mpandas\\_libs\\parsers.pyx\u001b[0m in \u001b[0;36mpandas._libs.parsers.TextReader.__cinit__\u001b[1;34m()\u001b[0m\n",
      "\u001b[1;32mpandas\\_libs\\parsers.pyx\u001b[0m in \u001b[0;36mpandas._libs.parsers.TextReader._setup_parser_source\u001b[1;34m()\u001b[0m\n",
      "\u001b[1;31mFileNotFoundError\u001b[0m: File b'official_data/lecturas_MPU.csv' does not exist"
     ]
    }
   ],
   "source": [
    "import tensorflow as tf\n",
    "import pandas as pd \n",
    "from keras.models import Sequential\n",
    "from keras.layers import Dense,Dropout\n",
    "from keras import backend as K\n",
    "import matplotlib.pyplot as plt\n",
    "from sklearn.model_selection import train_test_split\n",
    "import numpy as np\n",
    "K.set_floatx('float32')\n",
    "danger = pd.read_csv('official_data/lecturas_MPU.csv').iloc[0:11398]\n",
    "safe = pd.read_csv('official_data/lecturas_MPU2.csv').iloc[0:11398]\n",
    "testx = pd.read_csv('official_data/lecturas_MPU.csv').iloc[11398:].drop( ['tg'],axis=1)/32767 # target = 1\n",
    "testy = pd.read_csv('official_data/lecturas_MPU.csv').iloc[11398:][['tg']]\n",
    "tbl = [danger,safe]\n",
    "data = pd.concat(tbl)\n",
    "trainX = data.drop( ['tg'],axis=1)/32767 # escalando\n",
    "trainY = data[['tg']]\n",
    "train_x,test_x, train_y, test_y = train_test_split(trainX,trainY,test_size=0.2,random_state=15,shuffle=True)"
   ]
  },
  {
   "cell_type": "code",
   "execution_count": 542,
   "metadata": {},
   "outputs": [
    {
     "data": {
      "text/html": [
       "<div>\n",
       "<style scoped>\n",
       "    .dataframe tbody tr th:only-of-type {\n",
       "        vertical-align: middle;\n",
       "    }\n",
       "\n",
       "    .dataframe tbody tr th {\n",
       "        vertical-align: top;\n",
       "    }\n",
       "\n",
       "    .dataframe thead th {\n",
       "        text-align: right;\n",
       "    }\n",
       "</style>\n",
       "<table border=\"1\" class=\"dataframe\">\n",
       "  <thead>\n",
       "    <tr style=\"text-align: right;\">\n",
       "      <th></th>\n",
       "      <th>ax</th>\n",
       "      <th>ay</th>\n",
       "      <th>az</th>\n",
       "      <th>gx</th>\n",
       "      <th>gy</th>\n",
       "      <th>gz</th>\n",
       "    </tr>\n",
       "  </thead>\n",
       "  <tbody>\n",
       "    <tr>\n",
       "      <th>count</th>\n",
       "      <td>18236.000000</td>\n",
       "      <td>18236.000000</td>\n",
       "      <td>18236.000000</td>\n",
       "      <td>18236.000000</td>\n",
       "      <td>18236.000000</td>\n",
       "      <td>18236.000000</td>\n",
       "    </tr>\n",
       "    <tr>\n",
       "      <th>mean</th>\n",
       "      <td>0.006985</td>\n",
       "      <td>0.001354</td>\n",
       "      <td>0.009012</td>\n",
       "      <td>-0.002007</td>\n",
       "      <td>0.002515</td>\n",
       "      <td>0.000546</td>\n",
       "    </tr>\n",
       "    <tr>\n",
       "      <th>std</th>\n",
       "      <td>0.142035</td>\n",
       "      <td>0.206101</td>\n",
       "      <td>0.175317</td>\n",
       "      <td>0.089590</td>\n",
       "      <td>0.150538</td>\n",
       "      <td>0.089565</td>\n",
       "    </tr>\n",
       "    <tr>\n",
       "      <th>min</th>\n",
       "      <td>-0.998444</td>\n",
       "      <td>-0.998596</td>\n",
       "      <td>-0.999817</td>\n",
       "      <td>-0.997681</td>\n",
       "      <td>-0.982940</td>\n",
       "      <td>-0.812616</td>\n",
       "    </tr>\n",
       "    <tr>\n",
       "      <th>25%</th>\n",
       "      <td>-0.048433</td>\n",
       "      <td>-0.045007</td>\n",
       "      <td>-0.063997</td>\n",
       "      <td>-0.017426</td>\n",
       "      <td>-0.020608</td>\n",
       "      <td>-0.015412</td>\n",
       "    </tr>\n",
       "    <tr>\n",
       "      <th>50%</th>\n",
       "      <td>0.002136</td>\n",
       "      <td>0.003754</td>\n",
       "      <td>-0.002655</td>\n",
       "      <td>0.000031</td>\n",
       "      <td>0.000000</td>\n",
       "      <td>0.000092</td>\n",
       "    </tr>\n",
       "    <tr>\n",
       "      <th>75%</th>\n",
       "      <td>0.047617</td>\n",
       "      <td>0.062441</td>\n",
       "      <td>0.060915</td>\n",
       "      <td>0.018708</td>\n",
       "      <td>0.021943</td>\n",
       "      <td>0.020112</td>\n",
       "    </tr>\n",
       "    <tr>\n",
       "      <th>max</th>\n",
       "      <td>0.906125</td>\n",
       "      <td>0.680990</td>\n",
       "      <td>0.999023</td>\n",
       "      <td>0.931852</td>\n",
       "      <td>0.998871</td>\n",
       "      <td>0.634388</td>\n",
       "    </tr>\n",
       "  </tbody>\n",
       "</table>\n",
       "</div>"
      ],
      "text/plain": [
       "                 ax            ay            az            gx            gy  \\\n",
       "count  18236.000000  18236.000000  18236.000000  18236.000000  18236.000000   \n",
       "mean       0.006985      0.001354      0.009012     -0.002007      0.002515   \n",
       "std        0.142035      0.206101      0.175317      0.089590      0.150538   \n",
       "min       -0.998444     -0.998596     -0.999817     -0.997681     -0.982940   \n",
       "25%       -0.048433     -0.045007     -0.063997     -0.017426     -0.020608   \n",
       "50%        0.002136      0.003754     -0.002655      0.000031      0.000000   \n",
       "75%        0.047617      0.062441      0.060915      0.018708      0.021943   \n",
       "max        0.906125      0.680990      0.999023      0.931852      0.998871   \n",
       "\n",
       "                 gz  \n",
       "count  18236.000000  \n",
       "mean       0.000546  \n",
       "std        0.089565  \n",
       "min       -0.812616  \n",
       "25%       -0.015412  \n",
       "50%        0.000092  \n",
       "75%        0.020112  \n",
       "max        0.634388  "
      ]
     },
     "execution_count": 542,
     "metadata": {},
     "output_type": "execute_result"
    }
   ],
   "source": [
    "train_x.describe()"
   ]
  },
  {
   "cell_type": "code",
   "execution_count": 541,
   "metadata": {},
   "outputs": [
    {
     "data": {
      "text/html": [
       "<div>\n",
       "<style scoped>\n",
       "    .dataframe tbody tr th:only-of-type {\n",
       "        vertical-align: middle;\n",
       "    }\n",
       "\n",
       "    .dataframe tbody tr th {\n",
       "        vertical-align: top;\n",
       "    }\n",
       "\n",
       "    .dataframe thead th {\n",
       "        text-align: right;\n",
       "    }\n",
       "</style>\n",
       "<table border=\"1\" class=\"dataframe\">\n",
       "  <thead>\n",
       "    <tr style=\"text-align: right;\">\n",
       "      <th></th>\n",
       "      <th>ax</th>\n",
       "      <th>ay</th>\n",
       "      <th>az</th>\n",
       "      <th>gx</th>\n",
       "      <th>gy</th>\n",
       "      <th>gz</th>\n",
       "      <th>tg</th>\n",
       "    </tr>\n",
       "  </thead>\n",
       "  <tbody>\n",
       "    <tr>\n",
       "      <th>count</th>\n",
       "      <td>11398.000000</td>\n",
       "      <td>11398.000000</td>\n",
       "      <td>11398.000000</td>\n",
       "      <td>11398.000000</td>\n",
       "      <td>11398.000000</td>\n",
       "      <td>11398.000000</td>\n",
       "      <td>11398.0</td>\n",
       "    </tr>\n",
       "    <tr>\n",
       "      <th>mean</th>\n",
       "      <td>630.622127</td>\n",
       "      <td>-98.575452</td>\n",
       "      <td>428.358484</td>\n",
       "      <td>-130.649588</td>\n",
       "      <td>189.084664</td>\n",
       "      <td>24.824092</td>\n",
       "      <td>1.0</td>\n",
       "    </tr>\n",
       "    <tr>\n",
       "      <th>std</th>\n",
       "      <td>6431.218227</td>\n",
       "      <td>9502.182379</td>\n",
       "      <td>8019.343033</td>\n",
       "      <td>4124.762847</td>\n",
       "      <td>6996.814348</td>\n",
       "      <td>4150.147933</td>\n",
       "      <td>0.0</td>\n",
       "    </tr>\n",
       "    <tr>\n",
       "      <th>min</th>\n",
       "      <td>-32716.000000</td>\n",
       "      <td>-32721.000000</td>\n",
       "      <td>-32761.000000</td>\n",
       "      <td>-32691.000000</td>\n",
       "      <td>-32208.000000</td>\n",
       "      <td>-26627.000000</td>\n",
       "      <td>1.0</td>\n",
       "    </tr>\n",
       "    <tr>\n",
       "      <th>25%</th>\n",
       "      <td>-2807.000000</td>\n",
       "      <td>-6759.250000</td>\n",
       "      <td>-4137.500000</td>\n",
       "      <td>-2094.500000</td>\n",
       "      <td>-2790.750000</td>\n",
       "      <td>-1966.750000</td>\n",
       "      <td>1.0</td>\n",
       "    </tr>\n",
       "    <tr>\n",
       "      <th>50%</th>\n",
       "      <td>799.000000</td>\n",
       "      <td>799.000000</td>\n",
       "      <td>-911.000000</td>\n",
       "      <td>42.000000</td>\n",
       "      <td>55.000000</td>\n",
       "      <td>129.000000</td>\n",
       "      <td>1.0</td>\n",
       "    </tr>\n",
       "    <tr>\n",
       "      <th>75%</th>\n",
       "      <td>4360.750000</td>\n",
       "      <td>7146.000000</td>\n",
       "      <td>3619.750000</td>\n",
       "      <td>2116.000000</td>\n",
       "      <td>2871.000000</td>\n",
       "      <td>2172.750000</td>\n",
       "      <td>1.0</td>\n",
       "    </tr>\n",
       "    <tr>\n",
       "      <th>max</th>\n",
       "      <td>29691.000000</td>\n",
       "      <td>23575.000000</td>\n",
       "      <td>32735.000000</td>\n",
       "      <td>30534.000000</td>\n",
       "      <td>32730.000000</td>\n",
       "      <td>20787.000000</td>\n",
       "      <td>1.0</td>\n",
       "    </tr>\n",
       "  </tbody>\n",
       "</table>\n",
       "</div>"
      ],
      "text/plain": [
       "                 ax            ay            az            gx            gy  \\\n",
       "count  11398.000000  11398.000000  11398.000000  11398.000000  11398.000000   \n",
       "mean     630.622127    -98.575452    428.358484   -130.649588    189.084664   \n",
       "std     6431.218227   9502.182379   8019.343033   4124.762847   6996.814348   \n",
       "min   -32716.000000 -32721.000000 -32761.000000 -32691.000000 -32208.000000   \n",
       "25%    -2807.000000  -6759.250000  -4137.500000  -2094.500000  -2790.750000   \n",
       "50%      799.000000    799.000000   -911.000000     42.000000     55.000000   \n",
       "75%     4360.750000   7146.000000   3619.750000   2116.000000   2871.000000   \n",
       "max    29691.000000  23575.000000  32735.000000  30534.000000  32730.000000   \n",
       "\n",
       "                 gz       tg  \n",
       "count  11398.000000  11398.0  \n",
       "mean      24.824092      1.0  \n",
       "std     4150.147933      0.0  \n",
       "min   -26627.000000      1.0  \n",
       "25%    -1966.750000      1.0  \n",
       "50%      129.000000      1.0  \n",
       "75%     2172.750000      1.0  \n",
       "max    20787.000000      1.0  "
      ]
     },
     "execution_count": 541,
     "metadata": {},
     "output_type": "execute_result"
    }
   ],
   "source": [
    "danger.describe()"
   ]
  },
  {
   "cell_type": "markdown",
   "metadata": {
    "colab_type": "text",
    "id": "4mw6KPkxZBxo"
   },
   "source": [
    "**Step 2 : Construir tu modelo**"
   ]
  },
  {
   "cell_type": "code",
   "execution_count": 547,
   "metadata": {
    "colab": {
     "base_uri": "https://localhost:8080/",
     "height": 87
    },
    "colab_type": "code",
    "id": "cspe8yBS9ISn",
    "outputId": "5eeff7ff-e30b-480d-f767-01be5ea03a16"
   },
   "outputs": [
    {
     "name": "stdout",
     "output_type": "stream",
     "text": [
      "_________________________________________________________________\n",
      "Layer (type)                 Output Shape              Param #   \n",
      "=================================================================\n",
      "dense_311 (Dense)            (None, 10)                70        \n",
      "_________________________________________________________________\n",
      "dense_312 (Dense)            (None, 8)                 88        \n",
      "_________________________________________________________________\n",
      "dense_313 (Dense)            (None, 8)                 72        \n",
      "_________________________________________________________________\n",
      "dense_314 (Dense)            (None, 6)                 54        \n",
      "_________________________________________________________________\n",
      "dense_315 (Dense)            (None, 1)                 7         \n",
      "=================================================================\n",
      "Total params: 291\n",
      "Trainable params: 291\n",
      "Non-trainable params: 0\n",
      "_________________________________________________________________\n"
     ]
    }
   ],
   "source": [
    "# Step 2 : Construir tu modelo\n",
    "model = Sequential()\n",
    "model.add(Dense(10, activation = 'tanh',input_shape=(6,)))\n",
    "model.add(Dense(8, activation = 'tanh'))\n",
    "model.add(Dense(8, activation = 'sigmoid'))\n",
    "model.add(Dense(6, activation = 'sigmoid'))\n",
    "model.add(Dense(1, activation = 'sigmoid')) \n",
    "model.compile(loss = 'binary_crossentropy', \n",
    "              optimizer = 'rmsprop',metrics=['accuracy'])\n",
    "model.summary()"
   ]
  },
  {
   "cell_type": "markdown",
   "metadata": {
    "colab_type": "text",
    "id": "fDLW1HK6ZElw"
   },
   "source": [
    "**Step 3 Entrenar la red (train)**"
   ]
  },
  {
   "cell_type": "code",
   "execution_count": 548,
   "metadata": {
    "colab": {
     "base_uri": "https://localhost:8080/",
     "height": 272
    },
    "colab_type": "code",
    "id": "OPbXKM2uAVxj",
    "outputId": "27a5a096-0547-44d6-c1de-39eeb2d0387f"
   },
   "outputs": [
    {
     "name": "stdout",
     "output_type": "stream",
     "text": [
      "Train on 18236 samples, validate on 757 samples\n",
      "Epoch 1/27\n",
      "18236/18236 [==============================] - 5s 271us/step - loss: 0.6866 - acc: 0.5638 - val_loss: 0.6553 - val_acc: 0.4756\n",
      "Epoch 2/27\n",
      "18236/18236 [==============================] - 1s 69us/step - loss: 0.5651 - acc: 0.7482 - val_loss: 0.6073 - val_acc: 0.4822\n",
      "Epoch 3/27\n",
      "18236/18236 [==============================] - 1s 66us/step - loss: 0.4939 - acc: 0.7521 - val_loss: 0.5711 - val_acc: 0.4941\n",
      "Epoch 4/27\n",
      "18236/18236 [==============================] - 1s 72us/step - loss: 0.4804 - acc: 0.7577 - val_loss: 0.5571 - val_acc: 0.5086\n",
      "Epoch 5/27\n",
      "18236/18236 [==============================] - 1s 57us/step - loss: 0.4640 - acc: 0.7723 - val_loss: 0.5585 - val_acc: 0.5363\n",
      "Epoch 6/27\n",
      "18236/18236 [==============================] - 1s 52us/step - loss: 0.4138 - acc: 0.8156 - val_loss: 0.5373 - val_acc: 0.6116\n",
      "Epoch 7/27\n",
      "18236/18236 [==============================] - 1s 49us/step - loss: 0.3081 - acc: 0.8831 - val_loss: 0.4605 - val_acc: 0.7411\n",
      "Epoch 8/27\n",
      "18236/18236 [==============================] - 1s 54us/step - loss: 0.2387 - acc: 0.9167 - val_loss: 0.3512 - val_acc: 0.8256\n",
      "Epoch 9/27\n",
      "18236/18236 [==============================] - 1s 53us/step - loss: 0.2061 - acc: 0.9307 - val_loss: 0.3024 - val_acc: 0.8600\n",
      "Epoch 10/27\n",
      "18236/18236 [==============================] - 1s 51us/step - loss: 0.1931 - acc: 0.9361 - val_loss: 0.2933 - val_acc: 0.8679\n",
      "Epoch 11/27\n",
      "18236/18236 [==============================] - 1s 52us/step - loss: 0.1833 - acc: 0.9406 - val_loss: 0.2690 - val_acc: 0.8798\n",
      "Epoch 12/27\n",
      "18236/18236 [==============================] - 1s 52us/step - loss: 0.1724 - acc: 0.9453 - val_loss: 0.2386 - val_acc: 0.8943\n",
      "Epoch 13/27\n",
      "18236/18236 [==============================] - 1s 50us/step - loss: 0.1612 - acc: 0.9496 - val_loss: 0.2276 - val_acc: 0.8970\n",
      "Epoch 14/27\n",
      "18236/18236 [==============================] - 1s 50us/step - loss: 0.1457 - acc: 0.9559 - val_loss: 0.1728 - val_acc: 0.9234\n",
      "Epoch 15/27\n",
      "18236/18236 [==============================] - 1s 50us/step - loss: 0.1252 - acc: 0.9639 - val_loss: 0.1596 - val_acc: 0.9339\n",
      "Epoch 16/27\n",
      "18236/18236 [==============================] - 1s 52us/step - loss: 0.1089 - acc: 0.9682 - val_loss: 0.1512 - val_acc: 0.9392\n",
      "Epoch 17/27\n",
      "18236/18236 [==============================] - 1s 50us/step - loss: 0.1001 - acc: 0.9716 - val_loss: 0.1313 - val_acc: 0.9458\n",
      "Epoch 18/27\n",
      "18236/18236 [==============================] - 1s 55us/step - loss: 0.0964 - acc: 0.9731 - val_loss: 0.1344 - val_acc: 0.9485\n",
      "Epoch 19/27\n",
      "18236/18236 [==============================] - 1s 48us/step - loss: 0.0942 - acc: 0.9735 - val_loss: 0.1311 - val_acc: 0.9524\n",
      "Epoch 20/27\n",
      "18236/18236 [==============================] - 1s 49us/step - loss: 0.0924 - acc: 0.9742 - val_loss: 0.1364 - val_acc: 0.9524\n",
      "Epoch 21/27\n",
      "18236/18236 [==============================] - 1s 48us/step - loss: 0.0917 - acc: 0.9747 - val_loss: 0.1230 - val_acc: 0.9590\n",
      "Epoch 22/27\n",
      "18236/18236 [==============================] - 1s 57us/step - loss: 0.0907 - acc: 0.9754 - val_loss: 0.1386 - val_acc: 0.9577\n",
      "Epoch 23/27\n",
      "18236/18236 [==============================] - 1s 52us/step - loss: 0.0893 - acc: 0.9752 - val_loss: 0.1205 - val_acc: 0.9617\n",
      "Epoch 24/27\n",
      "18236/18236 [==============================] - 1s 57us/step - loss: 0.0886 - acc: 0.9758 - val_loss: 0.1363 - val_acc: 0.9551\n",
      "Epoch 25/27\n",
      "18236/18236 [==============================] - 1s 53us/step - loss: 0.0873 - acc: 0.9764 - val_loss: 0.1538 - val_acc: 0.9511\n",
      "Epoch 26/27\n",
      "18236/18236 [==============================] - 1s 57us/step - loss: 0.0867 - acc: 0.9761 - val_loss: 0.1432 - val_acc: 0.9524\n",
      "Epoch 27/27\n",
      "18236/18236 [==============================] - 1s 53us/step - loss: 0.0852 - acc: 0.9770 - val_loss: 0.1407 - val_acc: 0.9538\n"
     ]
    }
   ],
   "source": [
    "# Step 3 Entrenar la red (train)\n",
    "# epochs = significa un barrido de todos los datos de entranamiento. Lo que \n",
    "#   tenemos ahora son 60 000 imagenes, asi que en cada entrenamiento la red\n",
    "#   barre con todos los 60 000 datos.\n",
    "# Loss == Error (en deep learning) 21+21+21+21\n",
    "\n",
    "history = model.fit(train_x, train_y, epochs = 27,\n",
    "                    validation_data=(testx, testy))"
   ]
  },
  {
   "cell_type": "markdown",
   "metadata": {
    "colab_type": "text",
    "id": "6T626TNRZHJo"
   },
   "source": [
    "**Step 4 Evaluar el modelo (Evaluate )**"
   ]
  },
  {
   "cell_type": "code",
   "execution_count": 560,
   "metadata": {
    "colab": {
     "base_uri": "https://localhost:8080/",
     "height": 67
    },
    "colab_type": "code",
    "id": "ellif5cWdO7T",
    "outputId": "41c092ab-bbe8-4a96-cc9e-3ba7ed3d3b30"
   },
   "outputs": [
    {
     "name": "stdout",
     "output_type": "stream",
     "text": [
      "757/757 [==============================] - 0s 63us/step\n",
      "4560/4560 [==============================] - 0s 34us/step\n",
      "TEST1 | Perdida = 0.14065261919954436, Presición = 0.9537648613733218\n",
      "TEST2 | Perdida = 0.08567123346422847, Presición = 0.9769736842105263\n"
     ]
    },
    {
     "data": {
      "image/png": "[encoded data removed]",
      "text/plain": [
       "<Figure size 432x288 with 1 Axes>"
      ]
     },
     "metadata": {
      "needs_background": "light"
     },
     "output_type": "display_data"
    }
   ],
   "source": [
    "# Step 4 Evaluar el modelo (Evaluate )\n",
    "loss, accuracy = model.evaluate(testx, testy)\n",
    "loss2, accuracy2 = model.evaluate(test_x, test_y)\n",
    "n=2000\n",
    "scores,real = model.predict(testx), 0\n",
    "#print('Accuracy% =', accuracy*100) # Es la precisión del modelo ya entrenado\n",
    "#print('loss      =', loss) # Error del modelo ya entrenado con respecto a nuestro datos de prueba\n",
    "\n",
    "_=plt.plot(history.epoch,history.history['acc'],'o')\n",
    "_=plt.plot(history.epoch,history.history['val_acc'],'.' )\n",
    "_=plt.plot(scores,'*' )\n",
    "#history.history['loss']\n",
    "#history.history['val_acc']\n",
    "print(\"TEST1 | Perdida = {}, Presición = {}\".format(loss, accuracy))\n",
    "print(\"TEST2 | Perdida = {}, Presición = {}\".format(loss2, accuracy2))"
   ]
  },
  {
   "cell_type": "markdown",
   "metadata": {
    "colab_type": "text",
    "id": "p-PG4RIyKz0-"
   },
   "source": [
    "# Extracción de Valores de las matrices de Pesos"
   ]
  },
  {
   "cell_type": "code",
   "execution_count": 561,
   "metadata": {
    "colab": {
     "base_uri": "https://localhost:8080/",
     "height": 50
    },
    "colab_type": "code",
    "id": "CQo2O88jJE7B",
    "outputId": "23089b02-0e26-46ad-fa22-c7635bcfd332"
   },
   "outputs": [
    {
     "name": "stdout",
     "output_type": "stream",
     "text": [
      "Dimensiones de los pesos de la capa 0: [[ 2.0549965   0.73152137  0.07078217 -0.7290443  -2.2930493  -0.7631958\n",
      "  -0.8233199   1.5917686  -1.7656589  -0.14494936]\n",
      " [-1.3579916  -0.9757451  -1.2048781   0.5304767  -0.9327282   1.6764361\n",
      "   0.172624    0.5577521  -0.90876377 -0.42663667]\n",
      " [ 0.869779   -0.00427562 -0.18320262  0.6315745   0.33462766 -0.0963622\n",
      "  -0.734544   -0.58336145 -0.04939673  0.78223765]\n",
      " [-0.3513457   0.66198003  0.09647669 -0.01301495 -0.07210436  0.31300253\n",
      "  -0.74321854  0.08663455 -0.20723936  0.2497143 ]\n",
      " [ 0.6262538  -0.5896861  -0.16825275 -0.10362005  0.3386229  -0.85132253\n",
      "   0.11431435  0.67278266  0.20646432  0.7237033 ]\n",
      " [ 0.39709014 -0.23298283  0.13151188  0.25553346 -0.22546269 -0.32140878\n",
      "  -0.26277933  0.17771171 -0.65898424  0.4265563 ]] \n",
      "Dimensiones del Bias de la capa 0: [ 0.10846587  0.22224176  0.02659535  0.05782716 -0.00642552  0.13359843\n",
      "  0.07542766 -0.05395553  0.14789149 -0.04249101] \n"
     ]
    }
   ],
   "source": [
    "# Obteniendo los Pesos y Bias de una Capa\n",
    "n_layer = 0\n",
    "B_Input_Hidden = model.layers[n_layer].get_weights()\n",
    "print(\"Dimensiones de los pesos de la capa {}: {} \".format(n_layer,B_Input_Hidden[0]))\n",
    "print(\"Dimensiones del Bias de la capa {}: {} \".format(n_layer,B_Input_Hidden[1]))"
   ]
  },
  {
   "cell_type": "code",
   "execution_count": 562,
   "metadata": {
    "colab": {
     "base_uri": "https://localhost:8080/",
     "height": 308
    },
    "colab_type": "code",
    "id": "_XB0NY9pp7b7",
    "outputId": "b2263b2e-af43-4489-e584-2554d0becb9f"
   },
   "outputs": [
    {
     "name": "stdout",
     "output_type": "stream",
     "text": [
      "Dimensiones de los pesos de la capa 1: [[ 1.982958    0.49852887  0.0108047   0.07161843  0.04735603  1.1888287\n",
      "  -2.919036    0.67658335]\n",
      " [ 2.3032928   0.48203713  0.2570429   0.17908505  1.2567558   0.49357593\n",
      "  -1.8713325   0.6098087 ]\n",
      " [ 0.37399566  0.55240667 -1.109156   -1.3742007  -0.10651035 -1.1341479\n",
      "  -0.36480933  0.9192023 ]\n",
      " [-0.34679735  0.5442364   0.03793924  0.6785402   1.96818     2.4196203\n",
      "  -0.0991582  -0.17028022]\n",
      " [-0.76667196 -0.202326   -0.93059224 -1.1529652   2.4208324   1.5249335\n",
      "  -0.7466261   0.49941906]\n",
      " [-0.41255048 -0.54698646  1.5698832   1.1906053   0.675963    0.5467384\n",
      "   1.8784422  -0.97658926]\n",
      " [-0.7600907  -0.18641368  1.0323216   0.8869304   2.520573    0.18448111\n",
      "   0.1333522  -0.78364104]\n",
      " [-0.3237455   0.11525488  1.1475712   1.0254271  -2.3948913  -1.8994044\n",
      "   0.54964155 -0.04168001]\n",
      " [ 0.09244436  0.32602373 -0.26574048 -0.5316153   3.4383354   1.5852231\n",
      "  -0.8917138  -0.1493364 ]\n",
      " [ 0.89777595  0.43767595 -0.26948428 -1.2447916   0.18189853  1.7059469\n",
      "  -1.9572074   0.57123595]] \n",
      "Dimensiones del Bias de la capa 1: [ 0.06483117  0.82005876 -0.1322395   0.12871543  0.10346701  0.05259631\n",
      "  0.14760274  0.66271096] \n"
     ]
    }
   ],
   "source": [
    "# Obteniendo los Pesos y Bias de una Capa\n",
    "n_layer = 1\n",
    "B_Input_Hidden = model.layers[n_layer].get_weights()\n",
    "print(\"Dimensiones de los pesos de la capa {}: {} \".format(n_layer,B_Input_Hidden[0]))\n",
    "print(\"Dimensiones del Bias de la capa {}: {} \".format(n_layer,B_Input_Hidden[1]))"
   ]
  },
  {
   "cell_type": "code",
   "execution_count": 563,
   "metadata": {},
   "outputs": [
    {
     "name": "stdout",
     "output_type": "stream",
     "text": [
      "Dimensiones de los pesos de la capa 2: [[ 3.1194048e+00 -1.7216620e+00  3.2598519e-01  1.2772725e+00\n",
      "   1.0850912e+00 -1.8953481e-01  2.2084205e+00 -8.0055594e-01]\n",
      " [-4.0105242e-02 -5.2174300e-01 -7.7560437e-01 -1.1537112e+00\n",
      "  -1.4206325e+00  8.9169896e-01 -2.9544058e-01  9.7361678e-01]\n",
      " [-3.8614254e-02 -6.4679003e-01  2.7312081e+00  8.8321197e-01\n",
      "   2.1270862e+00 -1.9658288e+00  1.0843894e-01 -1.6189179e+00]\n",
      " [ 2.1031250e-01 -1.9949751e-01  2.8239281e+00  2.9935229e-01\n",
      "   1.3435221e+00 -2.5104961e+00  5.1552451e-01 -2.1122296e+00]\n",
      " [ 1.6300604e+00 -1.0446337e+00  1.6332840e+00  1.4484887e+00\n",
      "   1.7282267e+00 -1.9154168e+00  1.6936052e+00 -1.6453424e+00]\n",
      " [ 1.6800208e-01 -1.1920677e+00  5.1681423e-01  1.8418440e+00\n",
      "   1.1689370e+00 -1.4984118e+00  7.9344720e-01 -1.0724494e+00]\n",
      " [-2.4092464e+00  2.9763947e+00 -1.4353437e+00 -2.2452445e+00\n",
      "  -1.1908485e+00  8.4151345e-01 -1.9663683e+00  1.0246364e+00]\n",
      " [ 1.5908353e-03 -1.7836504e-01 -9.3754715e-01 -7.1875101e-01\n",
      "  -1.8678796e+00  1.9134377e+00 -6.5286875e-01  1.5621040e+00]] \n",
      "Dimensiones del Bias de la capa 2: [-0.10297762  0.51434416 -0.33080998 -1.1566651  -0.53437984  0.38784763\n",
      " -1.1676469   0.6698718 ] \n"
     ]
    }
   ],
   "source": [
    "# Obteniendo los Pesos y Bias de una Capa\n",
    "n_layer = 2\n",
    "B_Input_Hidden = model.layers[n_layer].get_weights()\n",
    "print(\"Dimensiones de los pesos de la capa {}: {} \".format(n_layer,B_Input_Hidden[0]))\n",
    "print(\"Dimensiones del Bias de la capa {}: {} \".format(n_layer,B_Input_Hidden[1]))"
   ]
  },
  {
   "cell_type": "code",
   "execution_count": 564,
   "metadata": {},
   "outputs": [
    {
     "name": "stdout",
     "output_type": "stream",
     "text": [
      "Dimensiones de los pesos de la capa 3: [[-1.0684602  -1.0289813   0.38778698  1.3591895  -1.268505   -0.61100537]\n",
      " [ 3.138089    2.7531319  -3.2757506  -2.9995828   3.6078892   3.081388  ]\n",
      " [-1.0625443  -0.31779072  0.62106335  0.4297438  -0.9112662  -1.020865  ]\n",
      " [-1.1154268  -1.1851511   0.9426039   0.6058121  -1.015511   -1.4914316 ]\n",
      " [-0.13504146 -0.81230706  0.75212055  0.31440598 -1.1532211  -1.1172838 ]\n",
      " [ 2.251216    3.0667264  -2.1147158  -3.2220414   2.4968786   2.50907   ]\n",
      " [-0.8644752  -1.030313    1.4756747   1.4104692  -0.3922202  -0.57539076]\n",
      " [ 3.0929515   2.3098907  -2.6028907  -2.2840881   2.3587422   2.8065836 ]] \n",
      "Dimensiones del Bias de la capa 3: [ 0.0791825   0.23778811 -0.04999492 -0.02931433  0.48093852  0.4257805 ] \n"
     ]
    }
   ],
   "source": [
    "# Obteniendo los Pesos y Bias de una Capa\n",
    "n_layer = 3\n",
    "B_Input_Hidden = model.layers[n_layer].get_weights()\n",
    "print(\"Dimensiones de los pesos de la capa {}: {} \".format(n_layer,B_Input_Hidden[0]))\n",
    "print(\"Dimensiones del Bias de la capa {}: {} \".format(n_layer,B_Input_Hidden[1]))"
   ]
  },
  {
   "cell_type": "code",
   "execution_count": 565,
   "metadata": {},
   "outputs": [
    {
     "name": "stdout",
     "output_type": "stream",
     "text": [
      "Dimensiones de los pesos de la capa 4: [[ 2.7341938]\n",
      " [ 2.816239 ]\n",
      " [-2.0193458]\n",
      " [-1.9935538]\n",
      " [ 3.0644875]\n",
      " [ 3.5271382]] \n",
      "Dimensiones del Bias de la capa 4: [-1.2208393] \n"
     ]
    }
   ],
   "source": [
    "# Obteniendo los Pesos y Bias de una Capa\n",
    "n_layer = 4\n",
    "B_Input_Hidden = model.layers[n_layer].get_weights()\n",
    "print(\"Dimensiones de los pesos de la capa {}: {} \".format(n_layer,B_Input_Hidden[0]))\n",
    "print(\"Dimensiones del Bias de la capa {}: {} \".format(n_layer,B_Input_Hidden[1]))"
   ]
  }
 ],
 "metadata": {
  "accelerator": "GPU",
  "colab": {
   "collapsed_sections": [],
   "name": "Deep Learning - Video Tutorial",
   "provenance": [],
   "toc_visible": true,
   "version": "0.3.2"
  },
  "kernelspec": {
   "display_name": "Python 3",
   "language": "python",
   "name": "python3"
  },
  "language_info": {
   "codemirror_mode": {
    "name": "ipython",
    "version": 3
   },
   "file_extension": ".py",
   "mimetype": "text/x-python",
   "name": "python",
   "nbconvert_exporter": "python",
   "pygments_lexer": "ipython3",
   "version": "3.7.1"
  }
 },
 "nbformat": 4,
 "nbformat_minor": 2
}
